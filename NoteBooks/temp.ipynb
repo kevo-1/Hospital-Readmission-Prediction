{
 "cells": [
  {
   "cell_type": "code",
   "execution_count": 74,
   "id": "965add23",
   "metadata": {},
   "outputs": [
    {
     "data": {
      "text/plain": [
       "True"
      ]
     },
     "execution_count": 74,
     "metadata": {},
     "output_type": "execute_result"
    }
   ],
   "source": [
    "import pandas as pd\n",
    "import numpy as np\n",
    "from sklearn.preprocessing import LabelEncoder\n",
    "from sklearn.ensemble import RandomForestRegressor\n",
    "import matplotlib.pyplot as plt\n",
    "import seaborn as sns\n",
    "from sklearn.metrics import accuracy_score\n",
    "from sklearn.model_selection import train_test_split\n",
    "from sklearn.linear_model import LogisticRegression\n",
    "# importing os module for environment variables\n",
    "import os\n",
    "# importing necessary functions from dotenv library\n",
    "from dotenv import load_dotenv, dotenv_values \n",
    "# loading variables from .env file\n",
    "load_dotenv() "
   ]
  },
  {
   "cell_type": "code",
   "execution_count": 75,
   "id": "d403cb7d",
   "metadata": {},
   "outputs": [],
   "source": [
    "data = pd.read_csv(os.getenv(\"dataFile\"))\n",
    "IDs = pd.read_csv(os.getenv(\"encodingFile\"))"
   ]
  },
  {
   "cell_type": "code",
   "execution_count": null,
   "metadata": {},
   "outputs": [],
   "source": [
    "# for col in data.columns:\n",
    "#     print((data[col] == '?').sum())\n",
    "\n",
    "print(data.shape)\n",
    "for col in data.columns:\n",
    "    nulls = (data[col] == '?').sum()\n",
    "    total = data[col].count()\n",
    "    if(nulls/total >= 0.3):\n",
    "        data.drop(col, axis=1, inplace=True)\n",
    "\n",
    "for col in data.columns:\n",
    "    print((data[col] == '?').sum())\n",
    "print(data.shape)"
   ]
  },
  {
   "cell_type": "code",
   "execution_count": 77,
   "metadata": {},
   "outputs": [],
   "source": [
    "for col in data.select_dtypes(include=['object']).columns:\n",
    "    data[col] = data[col].replace('?', data[col].mode)\n",
    "\n",
    "for col in data.select_dtypes(include= np.number).columns:\n",
    "    data[col] = data[col].replace('?', data[col].mean)"
   ]
  },
  {
   "cell_type": "code",
   "execution_count": 78,
   "metadata": {},
   "outputs": [],
   "source": [
    "admission_type_map = {\n",
    "    1: \"Emergency\", 2: \"Urgent\", 3: \"Elective\", 4: \"Newborn\",\n",
    "    5: \"Not Available\", 6: \"NULL\", 7: \"Trauma Center\", 8: \"Not Mapped\"\n",
    "}\n",
    "\n",
    "discharge_disposition_map = {\n",
    "    1: \"Discharged to home\",\n",
    "    2: \"Discharged/transferred to another short term hospital\",\n",
    "    3: \"Discharged/transferred to SNF\",\n",
    "    4: \"Discharged/transferred to ICF\",\n",
    "    5: \"Discharged/transferred to another type of inpatient care institution\",\n",
    "    6: \"Discharged/transferred to home with home health service\",\n",
    "    7: \"Left AMA\",\n",
    "    8: \"Discharged/transferred to home under care of Home IV provider\",\n",
    "    9: \"Admitted as an inpatient to this hospital\",\n",
    "    10: \"Neonate discharged to another hospital for neonatal aftercare\",\n",
    "    11: \"Expired\",\n",
    "    12: \"Still patient or expected to return for outpatient services\",\n",
    "    13: \"Hospice / home\",\n",
    "    14: \"Hospice / medical facility\",\n",
    "    15: \"Discharged/transferred within this institution to Medicare approved swing bed\",\n",
    "    16: \"Discharged/transferred/referred another institution for outpatient services\",\n",
    "    17: \"Discharged/transferred/referred to this institution for outpatient services\",\n",
    "    18: \"NULL\",\n",
    "    19: \"Expired at home. Medicaid only, hospice.\",\n",
    "    20: \"Expired in a medical facility. Medicaid only, hospice.\",\n",
    "    21: \"Expired, place unknown. Medicaid only, hospice.\",\n",
    "    22: \"Discharged/transferred to another rehab facility including rehab units of a hospital\",\n",
    "    23: \"Discharged/transferred to a long term care hospital\",\n",
    "    24: \"Discharged/transferred to a nursing facility certified under Medicaid but not certified under Medicare\",\n",
    "    25: \"Not Mapped\",\n",
    "    26: \"Unknown/Invalid\",\n",
    "    27: \"Discharged/transferred to a federal health care facility\",\n",
    "    28: \"Discharged/transferred/referred to a psychiatric hospital of psychiatric distinct part unit of a hospital\",\n",
    "    29: \"Discharged/transferred to a Critical Access Hospital (CAH)\",\n",
    "    30: \"Discharged/transferred to another Type of Health Care Institution not Defined Elsewhere\"\n",
    "}\n",
    "\n",
    "admission_source_map = {\n",
    "    1: \"Physician Referral\",\n",
    "    2: \"Clinic Referral\",\n",
    "    3: \"HMO Referral\",\n",
    "    4: \"Transfer from a hospital\",\n",
    "    5: \"Transfer from a Skilled Nursing Facility (SNF)\",\n",
    "    6: \"Transfer from another health care facility\",\n",
    "    7: \"Emergency Room\",\n",
    "    8: \"Court/Law Enforcement\",\n",
    "    9: \"Not Available\",\n",
    "    10: \"Transfer from critical access hospital\",\n",
    "    11: \"Normal Delivery\",\n",
    "    12: \"Premature Delivery\",\n",
    "    13: \"Sick Baby\",\n",
    "    14: \"Extramural Birth\",\n",
    "    15: \"Not Available\",\n",
    "    17: \"NULL\",\n",
    "    18: \"Transfer From Another Home Health Agency\",\n",
    "    19: \"Readmission to Same Home Health Agency\",\n",
    "    20: \"Not Mapped\",\n",
    "    21: \"Unknown/Invalid\",\n",
    "    22: \"Transfer from hospital inpt/same fac reslt in a sep claim\",\n",
    "    23: \"Born inside this hospital\",\n",
    "    24: \"Born outside this hospital\",\n",
    "    25: \"Transfer from Ambulatory Surgery Center\",\n",
    "    26: \"Transfer from Hospice\"\n",
    "}"
   ]
  },
  {
   "cell_type": "code",
   "execution_count": 79,
   "id": "44a87fbc",
   "metadata": {},
   "outputs": [],
   "source": [
    "data['admission_type_desc'] = data['admission_type_id'].map(admission_type_map)\n",
    "data['discharge_desc'] = data['discharge_disposition_id'].map(discharge_disposition_map)\n",
    "data['admission_source_desc'] = data['admission_source_id'].map(admission_source_map)\n",
    "data=pd.get_dummies(data,columns=['admission_type_desc'])\n",
    "data=pd.get_dummies(data,columns=['discharge_desc'])\n",
    "data=pd.get_dummies(data,columns=['admission_source_desc'])\n",
    "data.drop('admission_type_id',axis = 1, inplace = True)\n",
    "data.drop('discharge_disposition_id',axis = 1, inplace = True)\n",
    "data.drop('admission_source_id',axis = 1, inplace = True)"
   ]
  },
  {
   "cell_type": "code",
   "execution_count": null,
   "id": "1f71851d",
   "metadata": {},
   "outputs": [],
   "source": [
    "for col in data.select_dtypes(include=['object']).columns:\n",
    "    data = pd.get_dummies(data, columns=[col])\n",
    "    pass"
   ]
  }
 ],
 "metadata": {
  "kernelspec": {
   "display_name": "Python 3",
   "language": "python",
   "name": "python3"
  },
  "language_info": {
   "codemirror_mode": {
    "name": "ipython",
    "version": 3
   },
   "file_extension": ".py",
   "mimetype": "text/x-python",
   "name": "python",
   "nbconvert_exporter": "python",
   "pygments_lexer": "ipython3",
   "version": "3.13.2"
  }
 },
 "nbformat": 4,
 "nbformat_minor": 5
}
